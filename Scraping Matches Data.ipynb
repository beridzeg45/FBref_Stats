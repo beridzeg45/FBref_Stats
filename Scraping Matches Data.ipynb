{
 "cells": [
  {
   "cell_type": "code",
   "execution_count": 8,
   "id": "b907f54e",
   "metadata": {},
   "outputs": [],
   "source": [
    "from bs4 import BeautifulSoup as bs\n",
    "import requests\n",
    "\n",
    "import pandas as pd\n",
    "import matplotlib.pyplot as plt\n",
    "import seaborn as sns\n",
    "import scipy.stats as stats\n",
    "\n",
    "import pickle\n",
    "import os"
   ]
  },
  {
   "cell_type": "code",
   "execution_count": 9,
   "id": "bb7f3446",
   "metadata": {},
   "outputs": [],
   "source": [
    "import warnings\n",
    "warnings.filterwarnings('ignore')\n",
    "pd.options.display.max_columns=100\n",
    "plt.style.use('ggplot')\n",
    "#headers = {'User-agent': 'Mozilla/5.0 (Windows NT 6.1; Win64; x64) AppleWebKit/537.36 (KHTML, like Gecko) Chrome/64.0.3282.186 Safari/537.36'}\n",
    "headers={'User-agent':'Mozilla/5.0 (Windows NT 10.0; Win64; x64) AppleWebKit/537.36 (KHTML%2C like Gecko) Chrome/97.0.4692.99 Safari/537.36 OPR/83.0.4254.62'}"
   ]
  },
  {
   "cell_type": "code",
   "execution_count": 10,
   "id": "43c5cf23",
   "metadata": {
    "scrolled": false
   },
   "outputs": [
    {
     "name": "stdout",
     "output_type": "stream",
     "text": [
      "2005-2006 EPL Chelsea\n",
      "2005-2006 EPL Manchester Utd\n"
     ]
    },
    {
     "name": "stderr",
     "output_type": "stream",
     "text": [
      "\n",
      "KeyboardInterrupt\n",
      "\n"
     ]
    }
   ],
   "source": [
    "for i in range(2005,2023):\n",
    "    season=f'{i}-{i+1}'\n",
    "    epl_url=f'https://fbref.com/en/comps/9/{i}-{i+1}/{i}-{i+1}-Premier-League-Stats'\n",
    "    bundesliga_url=f'https://fbref.com/en/comps/20/{i}-{i+1}/{i}-{i+1}-Bundesliga-Stats'\n",
    "    laliga_url=f'https://fbref.com/en/comps/12/{i}-{i+1}/{i}-{i+1}-La-Liga-Stats'\n",
    "    ligue1_url=f'https://fbref.com/en/comps/13/{i}-{i+1}/{i}-{i+1}-Ligue-1-Stats'\n",
    "    seriaa_url=f'https://fbref.com/en/comps/11/{i}-{i+1}/{i}-{i+1}-Serie-A-Stats'\n",
    "    ere_divisie=f'https://fbref.com/en/comps/23/{i}-{i+1}/{i}-{i+1}-Eredivisie-Stats'\n",
    "    primeira_liga=f'https://fbref.com/en/comps/32/{i}-{i+1}/{i}-{i+1}-Primeira-Liga-Stats'\n",
    "\n",
    "    league_urls=[epl_url,bundesliga_url,laliga_url,ligue1_url,seriaa_url,ere_divisie,primeira_liga]\n",
    "    leagues=['EPL','Bundesliga','LaLiga','Ligue1','SeriaA','EreDivisie','PrimeiraLiga']\n",
    "    ids=['91','201','121','131','111','231','321']\n",
    "    \n",
    "    matches_dfs={}\n",
    "\n",
    "    for league,league_url,id_num in zip(leagues,league_urls,ids):\n",
    "        main_url=league_url\n",
    "        html=requests.get(main_url,headers=headers).content\n",
    "        soup=bs(html,'html.parser')\n",
    "\n",
    "        table=soup.select_one(f'table[id=\"results{season}{id_num}_overall\"] tbody')\n",
    "        squad_links=[link['href'] for link in table.select('tr td a') if 'squad' in str(link)]\n",
    "        squads=[link.text for link in table.select('tr td a') if 'squad' in str(link)]\n",
    "        squad_dfs={}\n",
    "        for squad, link in zip(squads,squad_links):\n",
    "            url=f'https://fbref.com{link}'\n",
    "            url=requests.get(url,headers=headers).content\n",
    "\n",
    "            try:\n",
    "                scores_and_fixtures=pd.read_html(url, match='Scores & Fixtures')[0]\n",
    "            except ValueError:\n",
    "                scores_and_fixtures=None\n",
    "        \n",
    "            squad_dfs[squad]={'scores_and_fixtures':scores_and_fixtures}\n",
    "            matches_dfs[league]=squad_dfs\n",
    "            print(season,league,squad)\n",
    "            \n",
    "    #save as pickle file\n",
    "    pickle.dump(matches_dfs,open(f'matches_dfs {season}.pickle', 'wb'))"
   ]
  },
  {
   "cell_type": "code",
   "execution_count": 7,
   "id": "e1e76c71",
   "metadata": {},
   "outputs": [],
   "source": [
    "main_url='https://fbref.com/en/comps/9/Premier-League-Stats'\n",
    "html=requests.get(main_url,headers=headers).content\n",
    "soup=bs(html,'html.parser')\n",
    "soup.select_one(f'table[id=\"results2021-202291_overall\"] tbody')"
   ]
  },
  {
   "cell_type": "code",
   "execution_count": null,
   "id": "3ab6181f",
   "metadata": {},
   "outputs": [],
   "source": []
  }
 ],
 "metadata": {
  "kernelspec": {
   "display_name": "Python 3 (ipykernel)",
   "language": "python",
   "name": "python3"
  },
  "language_info": {
   "codemirror_mode": {
    "name": "ipython",
    "version": 3
   },
   "file_extension": ".py",
   "mimetype": "text/x-python",
   "name": "python",
   "nbconvert_exporter": "python",
   "pygments_lexer": "ipython3",
   "version": "3.11.2"
  }
 },
 "nbformat": 4,
 "nbformat_minor": 5
}
